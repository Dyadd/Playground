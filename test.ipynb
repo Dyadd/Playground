{
 "cells": [
  {
   "cell_type": "markdown",
   "id": "1da2964a-5c55-48c1-bcd1-81ed21c90f1f",
   "metadata": {},
   "source": [
    "How do you embed `code`:"
   ]
  },
  {
   "cell_type": "code",
   "execution_count": null,
   "id": "0ea2583b-0e34-4e9a-8cf6-70ebd682962c",
   "metadata": {},
   "outputs": [],
   "source": []
  }
 ],
 "metadata": {
  "kernelspec": {
   "display_name": "Python 3 (ipykernel)",
   "language": "python",
   "name": "python3"
  },
  "language_info": {
   "codemirror_mode": {
    "name": "ipython",
    "version": 3
   },
   "file_extension": ".py",
   "mimetype": "text/x-python",
   "name": "python",
   "nbconvert_exporter": "python",
   "pygments_lexer": "ipython3",
   "version": "3.12.1"
  }
 },
 "nbformat": 4,
 "nbformat_minor": 5
}
